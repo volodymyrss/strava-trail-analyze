{
 "cells": [
  {
   "cell_type": "markdown",
   "metadata": {},
   "source": [
    "#  trail run estimate\n",
    "\n",
    "at the trail, it is especially important to correctly asses duration of the activitity, since it is a safety factor.\n",
    "\n",
    "the goal here is to asses correctly the trail run time, point out potentially too steep regions, snow conditions, need for light, view points\n",
    "\n",
    "time of walk and of run"
   ]
  },
  {
   "cell_type": "markdown",
   "metadata": {},
   "source": [
    "faster run or walk"
   ]
  },
  {
   "cell_type": "markdown",
   "metadata": {},
   "source": [
    "TODO: add webhook\n",
    "https://developers.strava.com/docs/webhooks/\n",
    "\n",
    "TODO: make async\n"
   ]
  },
  {
   "cell_type": "markdown",
   "metadata": {},
   "source": [
    "import by gpx url"
   ]
  },
  {
   "cell_type": "code",
   "execution_count": 1,
   "metadata": {},
   "outputs": [],
   "source": [
    "import numpy as np\n",
    "from matplotlib import cm\n",
    "\n",
    "fractions=[0,0.5, 1]\n",
    "i=0\n",
    "\n",
    "tuple((int, 255*np.array(cm.jet(i/len(fractions))[:-1])))\n",
    "\n",
    "#logging.basicConfig(level=logging.DEBUG)\n",
    "\n",
    "from importlib import reload  # Not needed in Python 2\n",
    "import logging\n",
    "reload(logging)\n",
    "\n",
    "logger = logging.getLogger()\n",
    "logger.setLevel(logging.INFO)\n",
    "\n",
    "\n",
    "import matplotlib as mpl\n",
    "from matplotlib import pylab as plt\n",
    "from matplotlib import cm as cm\n",
    "import numpy as np\n",
    "import requests\n",
    "import time\n",
    "from IPython.display import display, HTML\n",
    "from urllib.parse import urlencode\n",
    "import yaml"
   ]
  },
  {
   "cell_type": "markdown",
   "metadata": {},
   "source": [
    "# model\n",
    "\n",
    "power modes: fixed VAM (power to potential), fixed speed (power to running frix)"
   ]
  },
  {
   "cell_type": "markdown",
   "metadata": {},
   "source": [
    "# TODO\n",
    "\n",
    "find walk regions by cadence\n",
    "run and walk by grade, metrc"
   ]
  },
  {
   "cell_type": "code",
   "execution_count": 3,
   "metadata": {},
   "outputs": [],
   "source": [
    "c = yaml.safe_load(open(\"strava-client.yaml\"))\n",
    "\n",
    "client_id = c['client_id']\n",
    "client_secret = c['client_secret']"
   ]
  },
  {
   "cell_type": "code",
   "execution_count": 8,
   "metadata": {},
   "outputs": [
    {
     "name": "stdout",
     "output_type": "stream",
     "text": [
      "http://www.strava.com/oauth/authorize?client_id=58682&response_type=code&redirect_uri=http%3A%2F%2Flocalhost%2Fexchange_token&approval_prompt=force&scope=activity%3Aread_all\n"
     ]
    }
   ],
   "source": [
    "# auth?\n",
    "\n",
    "print(\"http://www.strava.com/oauth/authorize?\" + urlencode(dict(\n",
    "        client_id=client_id,\n",
    "        response_type=\"code\",\n",
    "        redirect_uri=\"http://localhost/exchange_token\",\n",
    "        #redirect_uri=\"http://trail.volodymyrsavchenko.com:8000/exchange_token\",\n",
    "        approval_prompt=\"force\",\n",
    "        scope=\"activity:read_all\",\n",
    "    )))\n",
    "\n",
    "code=input()\n",
    "\n",
    "r=requests.post(\"https://www.strava.com/api/v3/oauth/token\",\n",
    "  data=dict(\n",
    "      client_id=client_id,\n",
    "      client_secret=client_secret,\n",
    "      code=code,\n",
    "      grant_type=\"authorization_code\",\n",
    "  )\n",
    ").json()\n",
    "\n",
    "token=r['access_token']"
   ]
  },
  {
   "cell_type": "code",
   "execution_count": 4,
   "metadata": {},
   "outputs": [],
   "source": [
    "import getpass\n",
    "\n",
    "token=getpass.getpass()"
   ]
  },
  {
   "cell_type": "code",
   "execution_count": 10,
   "metadata": {},
   "outputs": [],
   "source": [
    "try:\n",
    "    #token = open('strava-token').read()\n",
    "    raise\n",
    "except:\n",
    "    token=r['access_token']\n",
    "\n",
    "    with open('strava-token', 'w') as f:\n",
    "        f.write(token)"
   ]
  },
  {
   "cell_type": "code",
   "execution_count": 11,
   "metadata": {},
   "outputs": [
    {
     "data": {
      "text/plain": [
       "{'id': 31879825,\n",
       " 'username': None,\n",
       " 'resource_state': 2,\n",
       " 'firstname': 'Volodymyr',\n",
       " 'lastname': 'Savchenko',\n",
       " 'bio': None,\n",
       " 'city': 'Zürich',\n",
       " 'state': 'Zürich',\n",
       " 'country': 'Switzerland',\n",
       " 'sex': 'M',\n",
       " 'premium': True,\n",
       " 'summit': True,\n",
       " 'created_at': '2018-06-16T19:52:50Z',\n",
       " 'updated_at': '2022-07-03T17:42:35Z',\n",
       " 'badge_type_id': 1,\n",
       " 'weight': 73.0,\n",
       " 'profile_medium': 'https://lh3.googleusercontent.com/a-/AAuE7mBeCQwB47Prrxvs5fOObJZ933AFZvWnaVPnl8HQug',\n",
       " 'profile': 'https://lh3.googleusercontent.com/a-/AAuE7mBeCQwB47Prrxvs5fOObJZ933AFZvWnaVPnl8HQug',\n",
       " 'friend': None,\n",
       " 'follower': None}"
      ]
     },
     "execution_count": 11,
     "metadata": {},
     "output_type": "execute_result"
    }
   ],
   "source": [
    "requests.get(\"https://www.strava.com/api/v3/athlete\", headers={\"Authorization\": f\"Bearer {token}\"}).json()"
   ]
  },
  {
   "cell_type": "code",
   "execution_count": 12,
   "metadata": {},
   "outputs": [
    {
     "data": {
      "text/plain": [
       "{'id': 31879825,\n",
       " 'username': None,\n",
       " 'resource_state': 2,\n",
       " 'firstname': 'Volodymyr',\n",
       " 'lastname': 'Savchenko',\n",
       " 'bio': None,\n",
       " 'city': 'Zürich',\n",
       " 'state': 'Zürich',\n",
       " 'country': 'Switzerland',\n",
       " 'sex': 'M',\n",
       " 'premium': True,\n",
       " 'summit': True,\n",
       " 'created_at': datetime.datetime(2018, 6, 16, 19, 52, 50, tzinfo=tzutc()),\n",
       " 'updated_at': datetime.datetime(2022, 7, 3, 17, 42, 35, tzinfo=tzutc()),\n",
       " 'badge_type_id': 1,\n",
       " 'weight': 73.0,\n",
       " 'profile_medium': 'https://lh3.googleusercontent.com/a-/AAuE7mBeCQwB47Prrxvs5fOObJZ933AFZvWnaVPnl8HQug',\n",
       " 'profile': 'https://lh3.googleusercontent.com/a-/AAuE7mBeCQwB47Prrxvs5fOObJZ933AFZvWnaVPnl8HQug',\n",
       " 'friend': None,\n",
       " 'follower': None,\n",
       " 'follower_count': None,\n",
       " 'friend_count': None,\n",
       " 'measurement_preference': None,\n",
       " 'ftp': None,\n",
       " 'clubs': None,\n",
       " 'bikes': None,\n",
       " 'shoes': None}"
      ]
     },
     "execution_count": 12,
     "metadata": {},
     "output_type": "execute_result"
    }
   ],
   "source": [
    "import time\n",
    "import bravado\n",
    "import bravado.client\n",
    "import bravado.requests_client\n",
    "import bravado.http_client\n",
    "\n",
    "reload(bravado), reload(bravado.client), reload(bravado.requests_client), reload(bravado.http_client)\n",
    "\n",
    "from bravado.requests_client import RequestsClient\n",
    "from bravado.client import SwaggerClient\n",
    "\n",
    "http_client = RequestsClient()\n",
    "http_client.set_api_key(\n",
    "    'www.strava.com', 'Bearer '+token,\n",
    "    param_name='Authorization', param_in='header'\n",
    ")\n",
    "\n",
    "client = SwaggerClient.from_url(\n",
    "    'https://developers.strava.com/swagger/swagger.json',\n",
    "    http_client=http_client,\n",
    "    config={\n",
    "        'validate_swagger_spec': False,\n",
    "        'validate_responses': False,\n",
    "        'validate_requests': False,\n",
    "    },\n",
    ")\n",
    "athlete = client.Athletes.getLoggedInAthlete().response().result\n",
    "athlete"
   ]
  },
  {
   "cell_type": "code",
   "execution_count": 26,
   "metadata": {},
   "outputs": [],
   "source": [
    "all_routes = requests.get(f\"https://www.strava.com/api/v3/athletes/{athlete['id']}/routes\", \n",
    "                              params=dict(\n",
    "                                  per_page=100\n",
    "                              ),\n",
    "                              headers={'Authorization': 'Bearer '+token}\n",
    "                             ).json()"
   ]
  },
  {
   "cell_type": "code",
   "execution_count": 28,
   "metadata": {},
   "outputs": [
    {
     "name": "stdout",
     "output_type": "stream",
     "text": [
      "getting route gpx for 3003040109243370858\n",
      "got GPXTrack(name='stans 21k1900', segments=[GPXTrackSegment(points=[...])])\n"
     ]
    }
   ],
   "source": [
    "import io\n",
    "import gpxpy\n",
    "\n",
    "routes = []\n",
    "\n",
    "for route in all_routes:\n",
    "    if '1900' not in route['name']: continue\n",
    "    routes.append(route)\n",
    "\n",
    "    print(\"getting route gpx for\", route['id'])\n",
    "    route['route_gpx'] = gpxpy.parse(io.BytesIO(requests.get(f\"https://www.strava.com/api/v3//routes/{route['id']}/export_gpx\", \n",
    "                                  params=dict(\n",
    "                                      per_page=100\n",
    "                                  ),\n",
    "                                  headers={'Authorization': 'Bearer '+token}\n",
    "                                 ).content))\n",
    "    route['route_points'] = route['route_gpx'].tracks[0].segments[0].points\n",
    "\n",
    "    print(\"got\", route['route_gpx'].tracks[0])\n",
    "\n",
    "\n",
    "    break"
   ]
  },
  {
   "cell_type": "code",
   "execution_count": 29,
   "metadata": {},
   "outputs": [
    {
     "name": "stdout",
     "output_type": "stream",
     "text": [
      "\u001b[31mstans 21k1900\u001b[0m 2 4 20.559030496278137\n"
     ]
    }
   ],
   "source": [
    "for route in routes:\n",
    "    #if '21' not in route['route_gpx'].name: continue\n",
    "    #if 'par KV' not in route['route_gpx'].name: continue\n",
    "    \n",
    "    print(f\"\\033[31m{route['route_gpx'].name}\\033[0m\", route['type'], route['sub_type'], route['distance']/1000.)\n"
   ]
  },
  {
   "cell_type": "code",
   "execution_count": 32,
   "metadata": {},
   "outputs": [],
   "source": [
    "route['distance'], route['elevation_gain']\n",
    "\n",
    "import sys\n",
    "import os\n",
    "\n",
    "os.environ['FLASK_SECRET_KEY'] = \"x\"\n",
    "sys.path.insert(0, 'app')\n",
    "from trailsapp.analyze import speed_estim_for_grade, d_"
   ]
  },
  {
   "cell_type": "code",
   "execution_count": 33,
   "metadata": {},
   "outputs": [],
   "source": [
    "if False:\n",
    "    activities = client.Activities.getLoggedInAthleteActivities(\n",
    "        after=int(time.time() - 720*24*3600),\n",
    "        perPage=100,\n",
    "    ).response().result\n",
    "else:\n",
    "    activities = requests.get(\"https://www.strava.com/api/v3/athlete/activities\", \n",
    "                              params=dict(\n",
    "                                  per_page=200,\n",
    "                                  page=1,\n",
    "                              ),\n",
    "                              headers={'Authorization': 'Bearer '+token}\n",
    "                             ).json()"
   ]
  },
  {
   "cell_type": "code",
   "execution_count": 20,
   "metadata": {},
   "outputs": [
    {
     "name": "stdout",
     "output_type": "stream",
     "text": [
      "Lunch \n",
      "Morning Run\n",
      "Lunch Walk\n",
      "Afternoon \n",
      "Morning Run\n",
      "Engelberg to Stans attempt\n",
      "Region reconaissance, Wildgärst\n",
      "Afternoon Run\n",
      "Afternoon Hike\n",
      "MXSKY\n",
      "Lunch Run\n",
      "Morning\n",
      "Morning\n",
      "Lunch\n",
      "Morning\n",
      "Morning Run\n",
      "Lunch Run\n",
      "Lunch Run\n",
      "Slightly more successful attempt to trail run than https://www.strava.com/activities/5027079530\n"
     ]
    }
   ],
   "source": [
    "for activity in activities:\n",
    "    if 'Ride' in activity['name'] or activity['total_elevation_gain'] < 300:\n",
    "        activity.pop('streams', None)\n",
    "        continue\n",
    "        \n",
    "        \n",
    "    \n",
    "    activity['streams'] = client.Streams.getActivityStreams(\n",
    "        id=activity['id'], \n",
    "        keys=\"time, distance, latlng, altitude, velocity_smooth, heartrate, cadence, watts, temp, moving, grade_smooth\".split(\", \"),\n",
    "        key_by_type=True,\n",
    "    ).response().result\n",
    "\n",
    "\n",
    "    \n",
    "    print(activity['name'])"
   ]
  },
  {
   "cell_type": "code",
   "execution_count": 34,
   "metadata": {},
   "outputs": [
    {
     "ename": "KeyError",
     "evalue": "'streams'",
     "output_type": "error",
     "traceback": [
      "\u001b[0;31m---------------------------------------------------------------------------\u001b[0m",
      "\u001b[0;31mKeyError\u001b[0m                                  Traceback (most recent call last)",
      "\u001b[1;32m/home/savchenk/personal/strava-trail-analyze/trail.ipynb Cell 20\u001b[0m in \u001b[0;36m<cell line: 14>\u001b[0;34m()\u001b[0m\n\u001b[1;32m      <a href='vscode-notebook-cell:/home/savchenk/personal/strava-trail-analyze/trail.ipynb#X25sZmlsZQ%3D%3D?line=4'>5</a>\u001b[0m     \u001b[39mif\u001b[39;00m \u001b[39m'\u001b[39m\u001b[39mSlightly\u001b[39m\u001b[39m'\u001b[39m \u001b[39min\u001b[39;00m activity[\u001b[39m'\u001b[39m\u001b[39mname\u001b[39m\u001b[39m'\u001b[39m]: \u001b[39mbreak\u001b[39;00m\n\u001b[1;32m      <a href='vscode-notebook-cell:/home/savchenk/personal/strava-trail-analyze/trail.ipynb#X25sZmlsZQ%3D%3D?line=5'>6</a>\u001b[0m     \u001b[39m# if activity.get('total_photo_count') > 0:\u001b[39;00m\n\u001b[1;32m      <a href='vscode-notebook-cell:/home/savchenk/personal/strava-trail-analyze/trail.ipynb#X25sZmlsZQ%3D%3D?line=6'>7</a>\u001b[0m     \u001b[39m#     print(f\"{activity['total_photo_count']:5d} {activity['name']}\")\u001b[39;00m\n\u001b[1;32m      <a href='vscode-notebook-cell:/home/savchenk/personal/strava-trail-analyze/trail.ipynb#X25sZmlsZQ%3D%3D?line=7'>8</a>\u001b[0m     \u001b[39m#     break\u001b[39;00m\n\u001b[0;32m   (...)\u001b[0m\n\u001b[1;32m     <a href='vscode-notebook-cell:/home/savchenk/personal/strava-trail-analyze/trail.ipynb#X25sZmlsZQ%3D%3D?line=10'>11</a>\u001b[0m \u001b[39m# act = client.Activities.getActivityById(\u001b[39;00m\n\u001b[1;32m     <a href='vscode-notebook-cell:/home/savchenk/personal/strava-trail-analyze/trail.ipynb#X25sZmlsZQ%3D%3D?line=11'>12</a>\u001b[0m \u001b[39m#         id=activity['id']).response()\u001b[39;00m\n\u001b[0;32m---> <a href='vscode-notebook-cell:/home/savchenk/personal/strava-trail-analyze/trail.ipynb#X25sZmlsZQ%3D%3D?line=13'>14</a>\u001b[0m lat, lng \u001b[39m=\u001b[39m np\u001b[39m.\u001b[39marray(activity[\u001b[39m'\u001b[39;49m\u001b[39mstreams\u001b[39;49m\u001b[39m'\u001b[39;49m][\u001b[39m'\u001b[39m\u001b[39mlatlng\u001b[39m\u001b[39m'\u001b[39m][\u001b[39m'\u001b[39m\u001b[39mdata\u001b[39m\u001b[39m'\u001b[39m])\u001b[39m.\u001b[39mtranspose()\n\u001b[1;32m     <a href='vscode-notebook-cell:/home/savchenk/personal/strava-trail-analyze/trail.ipynb#X25sZmlsZQ%3D%3D?line=14'>15</a>\u001b[0m alt \u001b[39m=\u001b[39m np\u001b[39m.\u001b[39marray(activity[\u001b[39m'\u001b[39m\u001b[39mstreams\u001b[39m\u001b[39m'\u001b[39m][\u001b[39m'\u001b[39m\u001b[39maltitude\u001b[39m\u001b[39m'\u001b[39m][\u001b[39m'\u001b[39m\u001b[39mdata\u001b[39m\u001b[39m'\u001b[39m])\u001b[39m/\u001b[39m\u001b[39m1000.\u001b[39m\n\u001b[1;32m     <a href='vscode-notebook-cell:/home/savchenk/personal/strava-trail-analyze/trail.ipynb#X25sZmlsZQ%3D%3D?line=16'>17</a>\u001b[0m R0_km \u001b[39m=\u001b[39m \u001b[39m6357\u001b[39m\n",
      "\u001b[0;31mKeyError\u001b[0m: 'streams'"
     ]
    }
   ],
   "source": [
    "for activity in activities:\n",
    "    if 'streams' not in activity: continue\n",
    "    if 'Ride' in activity['name']: continue\n",
    "\n",
    "    if 'Slightly' in activity['name']: break\n",
    "    # if activity.get('total_photo_count') > 0:\n",
    "    #     print(f\"{activity['total_photo_count']:5d} {activity['name']}\")\n",
    "    #     break\n",
    "    \n",
    "\n",
    "# act = client.Activities.getActivityById(\n",
    "#         id=activity['id']).response()\n",
    "\n",
    "lat, lng = np.array(activity['streams']['latlng']['data']).transpose()\n",
    "alt = np.array(activity['streams']['altitude']['data'])/1000.\n",
    "\n",
    "R0_km = 6357\n",
    "R_m =  R0 + alt\n",
    "\n",
    "# Z = R_m * np.sin(lat/180*np.pi)\n",
    "# X = R_m * np.cos(lat/180*np.pi)*np.sin(lng/180*np.pi)\n",
    "# Y = R_m * np.cos(lat/180*np.pi)*np.cos(lng/180*np.pi)\n",
    "\n",
    "wildspitz_lnglat = 47.0805131,8.5629319\n",
    "\n",
    "x = (wildspitz_lnglat[1] - lng)/180*np.pi*R0_km*np.cos(lat/180*np.pi)\n",
    "y = (wildspitz_lnglat[0] - lat)/180*np.pi*R0_km\n",
    "z = (alt - 1.580)\n",
    "\n",
    "#a = x\n",
    "#b = y\n",
    "\n",
    "v_n = np.array((1, 0, 0))\n",
    "\n",
    "off_n = np.dot(v_n, [x, y, z])\n",
    "\n",
    "\n",
    "if False:\n",
    "    fig = plt.figure(figsize=(10,10))\n",
    "\n",
    "    ax = fig.add_subplot(projection='3d')\n",
    "\n",
    "\n",
    "    ax.scatter(\n",
    "            x, y, z\n",
    "        )\n",
    "\n",
    "    ax.plot(\n",
    "            [0,0,0],\n",
    "            view,\n",
    "            c='r'\n",
    "        )\n",
    "    #ax.scatter(*, c='r')\n",
    "\n",
    "    ax.view_init(90, 90)\n",
    "\n",
    "plt.figure()\n",
    "\n",
    "plt.scatter(off_n, z)"
   ]
  },
  {
   "cell_type": "code",
   "execution_count": 35,
   "metadata": {},
   "outputs": [
    {
     "ename": "NameError",
     "evalue": "name 'x' is not defined",
     "output_type": "error",
     "traceback": [
      "\u001b[0;31m---------------------------------------------------------------------------\u001b[0m",
      "\u001b[0;31mNameError\u001b[0m                                 Traceback (most recent call last)",
      "\u001b[1;32m/home/savchenk/personal/strava-trail-analyze/trail.ipynb Cell 21\u001b[0m in \u001b[0;36m<cell line: 1>\u001b[0;34m()\u001b[0m\n\u001b[0;32m----> <a href='vscode-notebook-cell:/home/savchenk/personal/strava-trail-analyze/trail.ipynb#X26sZmlsZQ%3D%3D?line=0'>1</a>\u001b[0m r \u001b[39m=\u001b[39m np\u001b[39m.\u001b[39marray([x, y, z])\n\u001b[1;32m      <a href='vscode-notebook-cell:/home/savchenk/personal/strava-trail-analyze/trail.ipynb#X26sZmlsZQ%3D%3D?line=2'>3</a>\u001b[0m v_n \u001b[39m=\u001b[39m np\u001b[39m.\u001b[39marray([(\u001b[39m10\u001b[39m,\u001b[39m15\u001b[39m,\u001b[39m0\u001b[39m)])\n\u001b[1;32m      <a href='vscode-notebook-cell:/home/savchenk/personal/strava-trail-analyze/trail.ipynb#X26sZmlsZQ%3D%3D?line=3'>4</a>\u001b[0m v_n \u001b[39m=\u001b[39m v_n \u001b[39m/\u001b[39m (v_n\u001b[39m*\u001b[39m\u001b[39m*\u001b[39m\u001b[39m2\u001b[39m)\u001b[39m.\u001b[39msum()\u001b[39m*\u001b[39m\u001b[39m*\u001b[39m\u001b[39m0.5\u001b[39m\n",
      "\u001b[0;31mNameError\u001b[0m: name 'x' is not defined"
     ]
    }
   ],
   "source": [
    "r = np.array([x, y, z])\n",
    "\n",
    "v_n = np.array([(10,15,0)])\n",
    "v_n = v_n / (v_n**2).sum()**0.5\n",
    "\n",
    "v_a = np.array([(0,0,1)]) # todo perp to v_n\n",
    "v_b = np.cross(v_a, v_n)\n",
    "\n",
    "\n",
    "r_on_v_n = np.dot(v_n, r)/np.sum(v_n**2)**0.5\n",
    "\n",
    "r_off_v_n = r - np.outer(v_n, np.ones(r_on_v_n.shape[0]))*r_on_v_n\n",
    "\n",
    "fig = plt.figure(figsize=(10,10))\n",
    "ax = fig.add_subplot(projection='3d')\n",
    "\n",
    "ax.scatter(*r_off_v_n)\n",
    "\n",
    "ax.view_init(10, 45)\n",
    "\n",
    "r_n = r / np.sum(r**2, 0)**0.5\n",
    "\n",
    "#np.dot(v_n, r_n)[:5], r_on_v_n[0,:5], r_n[0,:5], r_off_v_n[0,:5]\n",
    "\n",
    "plt.figure(figsize=(20,20))\n",
    "a = np.dot(v_a, r_off_v_n)\n",
    "b = np.dot(v_b, r_off_v_n)\n",
    "\n",
    "from PIL import Image\n",
    "img = Image.open(os.getenv('HOME') + '/Downloads/20211212_140057.jpg')\n",
    "img = np.asarray(img)\n",
    "\n",
    "plt.imshow(\n",
    "    img[::5,::5,:],\n",
    "    extent=(-3, 7, -5, 5)\n",
    "    )\n",
    "\n",
    "\n",
    "plt.scatter(\n",
    "    -b, a,\n",
    "    s=1/(r**2).sum(0)*10\n",
    ")\n",
    "\n",
    "#plt.xlim([-10,10])\n",
    "plt.ylim([-2.5,2.5])\n",
    "\n",
    "# r_off_v_n"
   ]
  },
  {
   "cell_type": "code",
   "execution_count": 36,
   "metadata": {},
   "outputs": [
    {
     "data": {
      "text/plain": [
       "<matplotlib.image.AxesImage at 0x7fe973e2f640>"
      ]
     },
     "execution_count": 36,
     "metadata": {},
     "output_type": "execute_result"
    }
   ],
   "source": [
    "from PIL import Image\n",
    "img = Image.open(os.getenv('HOME') + '/Downloads/20211212_140057.jpg')\n",
    "img = np.asarray(img)\n",
    "\n",
    "plt.figure(figsize=(15,10))\n",
    "plt.imshow(\n",
    "    img[::5,::5,:],\n",
    "    extent=(-10,10, -1.5, 1.5)\n",
    "    )\n"
   ]
  },
  {
   "cell_type": "code",
   "execution_count": 37,
   "metadata": {},
   "outputs": [],
   "source": [
    "# import io\n",
    "# from exif import Image\n",
    "\n",
    "# # img_url = act.result['photos']['primary']['urls']['600']\n",
    "# # img_url = \"https://dgtzuqphqg23d.cloudfront.net/9lioRfX8-JTmpw56cbonbrOyNGubE6sGC8T7DR6hW6w-2048x1204.jpg\"\n",
    "# #img = Image(io.BytesIO(requests.get(img_url).content))\n",
    "# img = Image(open(os.getenv('HOME') + '/Downloads/20211212_140057.jpg', 'rb'))"
   ]
  },
  {
   "cell_type": "code",
   "execution_count": 38,
   "metadata": {},
   "outputs": [
    {
     "ename": "AttributeError",
     "evalue": "'numpy.ndarray' object has no attribute 'has_exif'",
     "output_type": "error",
     "traceback": [
      "\u001b[0;31m---------------------------------------------------------------------------\u001b[0m",
      "\u001b[0;31mAttributeError\u001b[0m                            Traceback (most recent call last)",
      "\u001b[1;32m/home/savchenk/personal/strava-trail-analyze/trail.ipynb Cell 24\u001b[0m in \u001b[0;36m<cell line: 1>\u001b[0;34m()\u001b[0m\n\u001b[0;32m----> <a href='vscode-notebook-cell:/home/savchenk/personal/strava-trail-analyze/trail.ipynb#X32sZmlsZQ%3D%3D?line=0'>1</a>\u001b[0m \u001b[39massert\u001b[39;00m img\u001b[39m.\u001b[39;49mhas_exif\n\u001b[1;32m      <a href='vscode-notebook-cell:/home/savchenk/personal/strava-trail-analyze/trail.ipynb#X32sZmlsZQ%3D%3D?line=2'>3</a>\u001b[0m img\u001b[39m.\u001b[39mget_all()\n",
      "\u001b[0;31mAttributeError\u001b[0m: 'numpy.ndarray' object has no attribute 'has_exif'"
     ]
    }
   ],
   "source": [
    "assert img.has_exif\n",
    "\n",
    "img.get_all()"
   ]
  },
  {
   "cell_type": "code",
   "execution_count": 55,
   "metadata": {},
   "outputs": [
    {
     "data": {
      "text/plain": [
       "200"
      ]
     },
     "execution_count": 55,
     "metadata": {},
     "output_type": "execute_result"
    }
   ],
   "source": [
    "lut_merged = None\n",
    "\n",
    "len(activities)"
   ]
  },
  {
   "cell_type": "code",
   "execution_count": 39,
   "metadata": {},
   "outputs": [],
   "source": [
    "#plt.figure()\n",
    "\n",
    "d_N = 10\n",
    "\n",
    "luts = []\n",
    "\n",
    "for activity in activities:\n",
    "    if 'streams' not in activity: continue\n",
    "        \n",
    "    #if 'Lake Winter' not in activity['name']: continue\n",
    "        \n",
    "    streams = activity['streams']\n",
    "    \n",
    "    \n",
    "    distance = np.array(streams['distance']['data'])\n",
    "    altitude = np.array(streams['altitude']['data'])\n",
    "    ttime = np.array(streams['time']['data'])\n",
    "    latlng = np.array(streams['latlng']['data'])\n",
    "    cadence = np.array(streams['cadence']['data'])*2.\n",
    "    heartrate = np.array(streams['heartrate']['data'])\n",
    "  \n",
    "    \n",
    "    d_distance1 = d_(distance, 1)\n",
    "    d_distance = d_(distance, d_N)\n",
    "    d_altitude = d_(altitude, d_N)\n",
    "    d_d3 = (d_distance**2 + d_altitude**2)**0.5\n",
    "    d_time = d_(ttime, d_N)\n",
    "    \n",
    "    speed_kph = d_d3/d_time *3600./1000.\n",
    "    vam = d_altitude/d_time    \n",
    "    grade = d_altitude/d_d3*100.\n",
    "    \n",
    "\n",
    "    def dealias(x):\n",
    "        mn = np.round(np.abs(x[x>0]).min(), 5)\n",
    "        print(\"found step\", mn)\n",
    "        x += np.random.rand(altitude.shape[0])*mn - mn/2.\n",
    "        \n",
    "    dealias(cadence)\n",
    "    dealias(d_altitude)\n",
    "    dealias(d_distance)\n",
    "\n",
    "    speed_kph = d_d3/d_time *3600./1000.\n",
    "    vam = d_altitude/d_time*1000\n",
    "    grade = d_altitude/d_d3*100.\n",
    "\n",
    "    m = np.abs(d_altitude)<1000\n",
    "    m &= np.abs(vam)<2000\n",
    "\n",
    "    def p2d(x,y, x_bins, y_bins, mode='hist'):\n",
    "\n",
    "        if mode == \"scatter\":\n",
    "            plt.scatter(x,y,s=5)\n",
    "        elif mode == 'hist':\n",
    "            return plt.hist2d(x,y, bins=(\n",
    "                    x_bins,\n",
    "                    y_bins,\n",
    "                )\n",
    "            )\n",
    "        elif mode == 'contour':\n",
    "            h2, a,b  = np.histogram2d(x,y, bins=(\n",
    "                    x_bins,\n",
    "                    y_bins,\n",
    "                )\n",
    "            )\n",
    "\n",
    "            plt.contourf(\n",
    "                a[:-1],\n",
    "                b[:-1],\n",
    "                np.transpose(h2),\n",
    "                #levels=np.logspace(np.log10(h2.max()/1000.), np.log10(h2.max()), 100)\n",
    "                levels=np.linspace(0, h2.max(), 100)\n",
    "            )\n",
    "\n",
    "\n",
    "    for mode in 'hist',: #'contour':\n",
    "        f, (ax1,ax2)= plt.subplots(1,2,figsize=(9,5))\n",
    "        lut_speed_grade = p2d(\n",
    "            speed_kph[m],\n",
    "            #d_altitude[m]/d_time[m]*3600.,\n",
    "            #60./(d_distance[m]/d_time[m]*3600./1000.),\n",
    "            #d_distance[m]/d_time[m]*3600./1000.,\n",
    "            #d_altitude[m]/d_time[m]*3600.,\n",
    "            #d_altitude[m]/d_time[m]*3600,\n",
    "            grade[m],\n",
    "            mode = mode,\n",
    "            x_bins = np.linspace(0, 15, 70),\n",
    "            y_bins = np.linspace(-60, 60, 70),\n",
    "            #y_bins = np.linspace(-2000, 2000, 70),\n",
    "        )\n",
    "        \n",
    "        luts.append(lut_speed_grade)\n",
    "        \n",
    "        plt.subplots_adjust(wspace=0)\n",
    "        \n",
    "        ax1.scatter(latlng[:,1], latlng[:,0], \n",
    "            #c=cm.jet(np.array(streams['velocity_smooth']['data'])/6.),\n",
    "            c=cm.jet((\n",
    "                np.array(d_altitude*3600)/(1000.)\n",
    "                #np.array(streams['altitude']['data'])-320)/(600-320)\n",
    "            ),\n",
    "        ))\n",
    "        \n",
    "        plt.title(activity['name'])\n",
    "        \n",
    "    print(\"total time\", (ttime[-1] - ttime[0])/3600., \"hr\")\n",
    "    \n",
    "    if lut_merged is None:\n",
    "        continue\n",
    "\n",
    "    x_grade = np.linspace(-50,50)\n",
    "    ax2.plot(\n",
    "        [speed_estim_for_grade(x, lut_merged, (0, 1.)) for x in x_grade],\n",
    "        x_grade,\n",
    "        c=\"k\",\n",
    "        lw=3,\n",
    "    )\n",
    "    ax2.plot(\n",
    "        [speed_estim_for_grade(x, lut_merged, (0.3, 0.7)) for x in x_grade],\n",
    "        x_grade,\n",
    "        c=\"r\",\n",
    "        lw=3,\n",
    "        ls=\":\"\n",
    "    )\n",
    "    \n",
    "    plt.figure()\n",
    "    plt.hist2d(\n",
    "        grade[m], \n",
    "        heartrate[m],\n",
    "        bins=(100, 100),\n",
    "    )\n",
    "    plt.axvline(8.)\n",
    "    \n",
    "\n",
    "    \n",
    "    total_time_estim = 0\n",
    "    sum_time = 0\n",
    "    i = 0\n",
    "    for d_d, d_a, d_t, _t in zip(d_d3, d_altitude, d_time, ttime):\n",
    "        i += 1\n",
    "        if i<30: continue\n",
    "        if i>len(d_time)-100: continue\n",
    "        \n",
    "        #print(d_d, d_a)\n",
    "        \n",
    "        grade = d_a/d_d*100.\n",
    "        \n",
    "        d_time_estim = d_d/(speed_estim_for_grade(grade, lut_merged)/3600.*1000)/(d_N-1)\n",
    "        \n",
    "        if not np.isnan(d_time_estim)and  not np.isinf(d_time_estim):\n",
    "            total_time_estim += d_time_estim\n",
    "            sum_time += d_t/(d_N-1)\n",
    "                        \n",
    "        #print(\"since\", _t - ttime[0], \"estim\", total_time_estim, \"sum\", sum_time)\n",
    "        #print(\"grade\", grade, \"speed\", d_d/d_t*3.6, \"estim speed\", speed_estim_for_grade(grade, lut_speed_grade), \"time estim\", d_time_estim, \"time spent\", d_t)\n",
    "        \n",
    "        \n",
    "        \n",
    "    print(\"total time estimate\", total_time_estim/3600., \"hr\", \"summed time\", sum_time/3600., \"hr\")\n",
    "    \n",
    "    print(\"total run fraction\", np.sum(m_run)/m_run.shape[0])\n",
    "        \n",
    "    #break\n",
    "\n",
    "    #ax=plt.gca()\n",
    "    #ax2=plt.twiny()\n",
    "    #ax2.set_xlim(60./np.array(ax.get_xlim()))\n",
    "\n",
    "    #plt.xlabel(\"pace\")\n",
    "    #plt.ylabel(\"grade\")\n",
    "    #plt.ylabel(\"VAM\")"
   ]
  },
  {
   "cell_type": "code",
   "execution_count": 49,
   "metadata": {},
   "outputs": [
    {
     "data": {
      "text/plain": [
       "<matplotlib.contour.QuadContourSet at 0x7fe9732a10a0>"
      ]
     },
     "execution_count": 49,
     "metadata": {},
     "output_type": "execute_result"
    }
   ],
   "source": [
    "if True:\n",
    "    lut_merged = np.load(open(\"lut_merged.npy\", \"rb\"), encoding='latin1', allow_pickle=True)\n",
    "\n",
    "else:\n",
    "    lut_merged = np.sum([l[0] for l in luts], 0), luts[0][1], luts[0][2]\n",
    "\n",
    "    np.save(open(\"lut_merged.npy\", \"wb\"), lut_merged)\n",
    "\n",
    "plt.figure(figsize=(15,10))\n",
    "\n",
    "plt.contourf(\n",
    "    lut_merged[1][:-1],\n",
    "    lut_merged[2][:-1],\n",
    "    lut_merged[0].transpose()/lut_merged[0].max(),\n",
    "    np.logspace(-3,0,100)\n",
    "    )"
   ]
  },
  {
   "cell_type": "code",
   "execution_count": 47,
   "metadata": {},
   "outputs": [
    {
     "name": "stdout",
     "output_type": "stream",
     "text": [
      "\u001b[31mstans 21k1900\u001b[0m 2 4\n",
      "total distance 21.41 km (strava 20.56)\n",
      "cumulative elevation gain -1.29 m (strava 1958.76)\n",
      "total elevation gain 1952.03 m (strava 1958.76)\n",
      "total time 6.37 strava estim 4.37\n",
      "down steep \u001b[032m 13.6%\u001b[0m time 0.87 hr 2.94 km -768.11 VAM\n",
      "run flat   \u001b[032m 30.7%\u001b[0m time 1.95 hr 10.12 km -1129.09 VAM\n",
      "walk up    \u001b[032m 55.7%\u001b[0m time 3.55 hr 8.33 km 1895.91 VAM\n",
      "steep up   \u001b[032m 15.0%\u001b[0m time 0.96 hr 1.75 km 556.80 VAM\n"
     ]
    },
    {
     "name": "stderr",
     "output_type": "stream",
     "text": [
      "/tmp/ipykernel_3195176/3149716691.py:18: RuntimeWarning: invalid value encountered in divide\n",
      "  route_grade = d_(route_altitude)/d_(route_d3, 10)*100.\n"
     ]
    }
   ],
   "source": [
    "\n",
    "\n",
    "d_N = 2\n",
    "N = 3\n",
    "\n",
    "for route in routes:\n",
    "    #if '21' not in route['route_gpx'].name: continue\n",
    "    #if 'KV' not in route['route_gpx'].name: continue\n",
    "    # if 'Verb' not in route['route_gpx'].name: continue\n",
    "    #if 'route_gpx'\n",
    "    \n",
    "    route_points = route['route_points']\n",
    "\n",
    "    d_route_d3 = np.array([0] + [a.distance_3d(b) for a,b in zip(route_points[:-1], route_points[1:])])\n",
    "    route_d3 = np.cumsum(d_route_d3)\n",
    "\n",
    "    route_lat = np.array([p.latitude for p in route_points])\n",
    "    route_lon = np.array([p.longitude for p in route_points])\n",
    "    route_altitude = np.array([p.elevation for p in route_points])\n",
    "    route_grade = d_(route_altitude)/d_(route_d3, 10)*100.\n",
    "\n",
    "    plt.figure()\n",
    "    plt.title(route['route_gpx'].name)\n",
    "    print(f\"\\033[31m{route['route_gpx'].name}\\033[0m\", route['type'], route['sub_type'])\n",
    "\n",
    "    plt.scatter(\n",
    "        route_lon,\n",
    "        route_lat,\n",
    "        c=cm.jet(route_grade/50.),\n",
    "    )\n",
    "\n",
    "    plt.grid()\n",
    "    #plt.ylim([-50, 50])\n",
    "\n",
    "    total_time_estim = 0\n",
    "    i = 0\n",
    "    d_time_estims = []\n",
    "    for d_d, d_a in zip(d_route_d3, d_(route_altitude, 2)):\n",
    "        d_time_estims.append(0)\n",
    "        \n",
    "        i += 1\n",
    "        if i<d_N +1: continue\n",
    "        if i>len(route_d3)-d_N -1: continue\n",
    "\n",
    "        grade = d_a/d_d*100.\n",
    "\n",
    "        estim_speed_ms = (speed_estim_for_grade(grade, lut_merged)/3600.*1000)\n",
    "        d_time_estim = d_d/(estim_speed_ms)/(d_N-1)\n",
    "\n",
    "        if not np.isnan(d_time_estim) and not np.isinf(d_time_estim):\n",
    "            total_time_estim += d_time_estim\n",
    "            #sum_time += d_t/(d_N-1)\n",
    "            d_time_estims[-1] = d_time_estim\n",
    "\n",
    "        #print(\"since\", _t - ttime[0], \"estim\", total_time_estim, \"sum\", sum_time)\n",
    "        #print(f\"dd {d_d:.2f} {d_a:.2f} grade {grade:.2f} estim speed {estim_speed_ms*3.6:.2f}, dtime {d_time_estim:.3f} total time {total_time_estim/3600.:.2f}\")\n",
    "\n",
    "    d_time_estims=np.array(d_time_estims)\n",
    "    \n",
    "    print(f\"total distance {np.sum(d_route_d3)/1000.:.2f} km (strava {route['distance']/1000.:.2f})\")\n",
    "    \n",
    "    asc = d_(route_altitude, 2)\n",
    "    \n",
    "    print(f\"cumulative elevation gain {np.sum(np.sum(d_(route_altitude, N)/(N-1))):.2f} m (strava {route['elevation_gain']:.2f})\")\n",
    "    print(f\"total elevation gain {np.sum(asc[asc>0]):.2f} m (strava {route['elevation_gain']:.2f})\")\n",
    "    print(f\"total time {total_time_estim/3600.:.2f} strava estim {route['estimated_moving_time']/3600.:.2f}\")\n",
    "    m_route_run_steep = route_grade<-20.\n",
    "    m_route_run_flat = (route_grade<8.) & (route_grade>-20.)\n",
    "    m_route_walk = route_grade>8.\n",
    "    m_route_steep = route_grade>30.\n",
    "\n",
    "    for n, mx in [\n",
    "        (\"down steep\", m_route_run_steep),\n",
    "        (\"run flat\", m_route_run_flat),\n",
    "        (\"walk up\", m_route_walk),\n",
    "        (\"steep up\", m_route_steep),\n",
    "    ]:        \n",
    "        print(f\"{n:10s} \"+\n",
    "              f\"\\033[032m{np.sum(d_time_estims[mx])/np.sum(d_time_estims)*100:5.1f}%\\033[0m time \" +\n",
    "              f\"{np.sum(d_time_estims[mx])/3600.:.2f} hr \" +\n",
    "              f\"{np.sum(d_route_d3[mx])/1000.:.2f} km\",\n",
    "              f\"{np.sum(d_(route_altitude, N)[mx])/(N-1):.2f} VAM\",\n",
    "             )\n",
    "        \n",
    "        \n",
    "    if False:\n",
    "        plt.figure()\n",
    "        plt.plot(\n",
    "            np.cumsum(d_route_d3),\n",
    "            route_altitude,\n",
    "        )\n",
    "        plt.plot(\n",
    "            np.cumsum(d_route_d3),\n",
    "            np.cumsum(d_(route_altitude, N))/(N-1),\n",
    "        )\n",
    "        plt.grid()\n",
    "        \n",
    "    #break\n",
    "    \n",
    "    \n",
    "    \n"
   ]
  },
  {
   "cell_type": "code",
   "execution_count": 35,
   "metadata": {},
   "outputs": [],
   "source": [
    "# plt.figure()\n",
    "# _ = plt.hist(np.array(cadence)*2, 100)"
   ]
  },
  {
   "cell_type": "code",
   "execution_count": 59,
   "metadata": {},
   "outputs": [
    {
     "data": {
      "text/plain": [
       "Text(0.5, 0, 'VAM')"
      ]
     },
     "execution_count": 59,
     "metadata": {},
     "output_type": "execute_result"
    },
    {
     "data": {
      "image/png": "[encoded data removed]",
      "text/plain": [
       "<Figure size 432x288 with 1 Axes>"
      ]
     },
     "metadata": {
      "needs_background": "light"
     },
     "output_type": "display_data"
    }
   ],
   "source": [
    "plt.figure()\n",
    "\n",
    "_=plt.hist(d_altitude[m]/d_time[m]*3600, 300, density=True)\n",
    "plt.xlabel('VAM')"
   ]
  }
 ],
 "metadata": {
  "kernelspec": {
   "display_name": "Python 3.9.5 ('base')",
   "language": "python",
   "name": "python3"
  },
  "language_info": {
   "codemirror_mode": {
    "name": "ipython",
    "version": 3
   },
   "file_extension": ".py",
   "mimetype": "text/x-python",
   "name": "python",
   "nbconvert_exporter": "python",
   "pygments_lexer": "ipython3",
   "version": "3.9.5"
  },
  "vscode": {
   "interpreter": {
    "hash": "1892832a55cb9b21d693a1e0afb7563f6ad424a1b7b3da21728b3ea0874fe733"
   }
  }
 },
 "nbformat": 4,
 "nbformat_minor": 4
}
